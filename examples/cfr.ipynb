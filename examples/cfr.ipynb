{
 "cells": [
  {
   "cell_type": "code",
   "execution_count": null,
   "id": "0",
   "metadata": {},
   "outputs": [],
   "source": [
    "import matplotlib.pyplot as plt\n",
    "\n",
    "from cfrx.algorithms.cfr import CFRState\n",
    "from cfrx.policy import TabularPolicy\n",
    "from cfrx.trainers.cfr import CFRTrainer"
   ]
  },
  {
   "cell_type": "code",
   "execution_count": null,
   "id": "1",
   "metadata": {},
   "outputs": [],
   "source": [
    "ENV_NAME = \"Kuhn Poker\""
   ]
  },
  {
   "cell_type": "code",
   "execution_count": null,
   "id": "2",
   "metadata": {},
   "outputs": [],
   "source": [
    "if ENV_NAME == \"Kuhn Poker\":\n",
    "    from cfrx.envs.kuhn_poker.env import KuhnPoker\n",
    "\n",
    "    env_cls = KuhnPoker\n",
    "\n",
    "\n",
    "elif ENV_NAME == \"Leduc Poker\":\n",
    "    from cfrx.envs.leduc_poker.env import LeducPoker\n",
    "\n",
    "    env_cls = LeducPoker"
   ]
  },
  {
   "cell_type": "code",
   "execution_count": null,
   "id": "3",
   "metadata": {},
   "outputs": [],
   "source": [
    "env = env_cls()"
   ]
  },
  {
   "cell_type": "code",
   "execution_count": null,
   "id": "4",
   "metadata": {},
   "outputs": [],
   "source": [
    "training_state = CFRState.init(n_states=env.n_info_states, n_actions=env.n_actions)\n",
    "policy = TabularPolicy(n_actions=env.n_actions, info_state_idx_fn=env.info_state_idx)"
   ]
  },
  {
   "cell_type": "code",
   "execution_count": null,
   "id": "5",
   "metadata": {},
   "outputs": [],
   "source": [
    "trainer = CFRTrainer(env=env, policy=policy, device=\"cpu\")\n",
    "training_state, metrics = trainer.train(n_iterations=10000, metrics_period=10)"
   ]
  },
  {
   "cell_type": "code",
   "execution_count": null,
   "id": "6",
   "metadata": {},
   "outputs": [],
   "source": [
    "plt.plot(metrics[\"step\"], metrics[\"exploitability\"])\n",
    "plt.yscale(\"log\")\n",
    "plt.xlabel(\"Iterations\")\n",
    "plt.title(f\"CFR on {ENV_NAME}\")\n",
    "plt.ylabel(\"Exploitability\")"
   ]
  },
  {
   "cell_type": "code",
   "execution_count": null,
   "id": "7",
   "metadata": {},
   "outputs": [],
   "source": []
  }
 ],
 "metadata": {
  "kernelspec": {
   "display_name": "Python 3 (ipykernel)",
   "language": "python",
   "name": "python3"
  },
  "language_info": {
   "codemirror_mode": {
    "name": "ipython",
    "version": 3
   },
   "file_extension": ".py",
   "mimetype": "text/x-python",
   "name": "python",
   "nbconvert_exporter": "python",
   "pygments_lexer": "ipython3",
   "version": "3.10.13"
  }
 },
 "nbformat": 4,
 "nbformat_minor": 5
}
